{
 "cells": [
  {
   "cell_type": "code",
   "execution_count": 1,
   "id": "768a9f02",
   "metadata": {
    "_cell_guid": "b1076dfc-b9ad-4769-8c92-a6c4dae69d19",
    "_uuid": "8f2839f25d086af736a60e9eeb907d3b93b6e0e5",
    "execution": {
     "iopub.execute_input": "2023-01-18T10:06:55.880322Z",
     "iopub.status.busy": "2023-01-18T10:06:55.879538Z",
     "iopub.status.idle": "2023-01-18T10:06:55.896143Z",
     "shell.execute_reply": "2023-01-18T10:06:55.895097Z"
    },
    "papermill": {
     "duration": 0.037274,
     "end_time": "2023-01-18T10:06:55.899733",
     "exception": false,
     "start_time": "2023-01-18T10:06:55.862459",
     "status": "completed"
    },
    "tags": []
   },
   "outputs": [],
   "source": [
    "\n",
    "\n",
    "import numpy as np # linear algebra\n",
    "import pandas as pd # data processing\n"
   ]
  },
  {
   "cell_type": "code",
   "execution_count": 2,
   "id": "ef69cf61",
   "metadata": {
    "execution": {
     "iopub.execute_input": "2023-01-18T10:06:55.931831Z",
     "iopub.status.busy": "2023-01-18T10:06:55.931414Z",
     "iopub.status.idle": "2023-01-18T10:06:57.047192Z",
     "shell.execute_reply": "2023-01-18T10:06:57.045969Z"
    },
    "papermill": {
     "duration": 1.136123,
     "end_time": "2023-01-18T10:06:57.050575",
     "exception": false,
     "start_time": "2023-01-18T10:06:55.914452",
     "status": "completed"
    },
    "tags": []
   },
   "outputs": [],
   "source": [
    "import matplotlib.pyplot as plt\n",
    "import seaborn as sns"
   ]
  },
  {
   "cell_type": "code",
   "execution_count": 3,
   "id": "fb11753e",
   "metadata": {
    "execution": {
     "iopub.execute_input": "2023-01-18T10:06:57.078885Z",
     "iopub.status.busy": "2023-01-18T10:06:57.077608Z",
     "iopub.status.idle": "2023-01-18T10:06:57.287344Z",
     "shell.execute_reply": "2023-01-18T10:06:57.285997Z"
    },
    "papermill": {
     "duration": 0.22722,
     "end_time": "2023-01-18T10:06:57.290814",
     "exception": false,
     "start_time": "2023-01-18T10:06:57.063594",
     "status": "completed"
    },
    "tags": []
   },
   "outputs": [
    {
     "data": {
      "text/html": [
       "<div>\n",
       "<style scoped>\n",
       "    .dataframe tbody tr th:only-of-type {\n",
       "        vertical-align: middle;\n",
       "    }\n",
       "\n",
       "    .dataframe tbody tr th {\n",
       "        vertical-align: top;\n",
       "    }\n",
       "\n",
       "    .dataframe thead th {\n",
       "        text-align: right;\n",
       "    }\n",
       "</style>\n",
       "<table border=\"1\" class=\"dataframe\">\n",
       "  <thead>\n",
       "    <tr style=\"text-align: right;\">\n",
       "      <th></th>\n",
       "      <th>Booking_ID</th>\n",
       "      <th>no_of_adults</th>\n",
       "      <th>no_of_children</th>\n",
       "      <th>no_of_weekend_nights</th>\n",
       "      <th>no_of_week_nights</th>\n",
       "      <th>type_of_meal_plan</th>\n",
       "      <th>required_car_parking_space</th>\n",
       "      <th>room_type_reserved</th>\n",
       "      <th>lead_time</th>\n",
       "      <th>arrival_year</th>\n",
       "      <th>arrival_month</th>\n",
       "      <th>arrival_date</th>\n",
       "      <th>market_segment_type</th>\n",
       "      <th>repeated_guest</th>\n",
       "      <th>no_of_previous_cancellations</th>\n",
       "      <th>no_of_previous_bookings_not_canceled</th>\n",
       "      <th>avg_price_per_room</th>\n",
       "      <th>no_of_special_requests</th>\n",
       "      <th>booking_status</th>\n",
       "    </tr>\n",
       "  </thead>\n",
       "  <tbody>\n",
       "    <tr>\n",
       "      <th>0</th>\n",
       "      <td>INN00001</td>\n",
       "      <td>2</td>\n",
       "      <td>0</td>\n",
       "      <td>1</td>\n",
       "      <td>2</td>\n",
       "      <td>Meal Plan 1</td>\n",
       "      <td>0</td>\n",
       "      <td>Room_Type 1</td>\n",
       "      <td>224</td>\n",
       "      <td>2017</td>\n",
       "      <td>10</td>\n",
       "      <td>2</td>\n",
       "      <td>Offline</td>\n",
       "      <td>0</td>\n",
       "      <td>0</td>\n",
       "      <td>0</td>\n",
       "      <td>65.00</td>\n",
       "      <td>0</td>\n",
       "      <td>Not_Canceled</td>\n",
       "    </tr>\n",
       "    <tr>\n",
       "      <th>1</th>\n",
       "      <td>INN00002</td>\n",
       "      <td>2</td>\n",
       "      <td>0</td>\n",
       "      <td>2</td>\n",
       "      <td>3</td>\n",
       "      <td>Not Selected</td>\n",
       "      <td>0</td>\n",
       "      <td>Room_Type 1</td>\n",
       "      <td>5</td>\n",
       "      <td>2018</td>\n",
       "      <td>11</td>\n",
       "      <td>6</td>\n",
       "      <td>Online</td>\n",
       "      <td>0</td>\n",
       "      <td>0</td>\n",
       "      <td>0</td>\n",
       "      <td>106.68</td>\n",
       "      <td>1</td>\n",
       "      <td>Not_Canceled</td>\n",
       "    </tr>\n",
       "    <tr>\n",
       "      <th>2</th>\n",
       "      <td>INN00003</td>\n",
       "      <td>1</td>\n",
       "      <td>0</td>\n",
       "      <td>2</td>\n",
       "      <td>1</td>\n",
       "      <td>Meal Plan 1</td>\n",
       "      <td>0</td>\n",
       "      <td>Room_Type 1</td>\n",
       "      <td>1</td>\n",
       "      <td>2018</td>\n",
       "      <td>2</td>\n",
       "      <td>28</td>\n",
       "      <td>Online</td>\n",
       "      <td>0</td>\n",
       "      <td>0</td>\n",
       "      <td>0</td>\n",
       "      <td>60.00</td>\n",
       "      <td>0</td>\n",
       "      <td>Canceled</td>\n",
       "    </tr>\n",
       "    <tr>\n",
       "      <th>3</th>\n",
       "      <td>INN00004</td>\n",
       "      <td>2</td>\n",
       "      <td>0</td>\n",
       "      <td>0</td>\n",
       "      <td>2</td>\n",
       "      <td>Meal Plan 1</td>\n",
       "      <td>0</td>\n",
       "      <td>Room_Type 1</td>\n",
       "      <td>211</td>\n",
       "      <td>2018</td>\n",
       "      <td>5</td>\n",
       "      <td>20</td>\n",
       "      <td>Online</td>\n",
       "      <td>0</td>\n",
       "      <td>0</td>\n",
       "      <td>0</td>\n",
       "      <td>100.00</td>\n",
       "      <td>0</td>\n",
       "      <td>Canceled</td>\n",
       "    </tr>\n",
       "    <tr>\n",
       "      <th>4</th>\n",
       "      <td>INN00005</td>\n",
       "      <td>2</td>\n",
       "      <td>0</td>\n",
       "      <td>1</td>\n",
       "      <td>1</td>\n",
       "      <td>Not Selected</td>\n",
       "      <td>0</td>\n",
       "      <td>Room_Type 1</td>\n",
       "      <td>48</td>\n",
       "      <td>2018</td>\n",
       "      <td>4</td>\n",
       "      <td>11</td>\n",
       "      <td>Online</td>\n",
       "      <td>0</td>\n",
       "      <td>0</td>\n",
       "      <td>0</td>\n",
       "      <td>94.50</td>\n",
       "      <td>0</td>\n",
       "      <td>Canceled</td>\n",
       "    </tr>\n",
       "  </tbody>\n",
       "</table>\n",
       "</div>"
      ],
      "text/plain": [
       "  Booking_ID  no_of_adults  no_of_children  no_of_weekend_nights  \\\n",
       "0   INN00001             2               0                     1   \n",
       "1   INN00002             2               0                     2   \n",
       "2   INN00003             1               0                     2   \n",
       "3   INN00004             2               0                     0   \n",
       "4   INN00005             2               0                     1   \n",
       "\n",
       "   no_of_week_nights type_of_meal_plan  required_car_parking_space  \\\n",
       "0                  2       Meal Plan 1                           0   \n",
       "1                  3      Not Selected                           0   \n",
       "2                  1       Meal Plan 1                           0   \n",
       "3                  2       Meal Plan 1                           0   \n",
       "4                  1      Not Selected                           0   \n",
       "\n",
       "  room_type_reserved  lead_time  arrival_year  arrival_month  arrival_date  \\\n",
       "0        Room_Type 1        224          2017             10             2   \n",
       "1        Room_Type 1          5          2018             11             6   \n",
       "2        Room_Type 1          1          2018              2            28   \n",
       "3        Room_Type 1        211          2018              5            20   \n",
       "4        Room_Type 1         48          2018              4            11   \n",
       "\n",
       "  market_segment_type  repeated_guest  no_of_previous_cancellations  \\\n",
       "0             Offline               0                             0   \n",
       "1              Online               0                             0   \n",
       "2              Online               0                             0   \n",
       "3              Online               0                             0   \n",
       "4              Online               0                             0   \n",
       "\n",
       "   no_of_previous_bookings_not_canceled  avg_price_per_room  \\\n",
       "0                                     0               65.00   \n",
       "1                                     0              106.68   \n",
       "2                                     0               60.00   \n",
       "3                                     0              100.00   \n",
       "4                                     0               94.50   \n",
       "\n",
       "   no_of_special_requests booking_status  \n",
       "0                       0   Not_Canceled  \n",
       "1                       1   Not_Canceled  \n",
       "2                       0       Canceled  \n",
       "3                       0       Canceled  \n",
       "4                       0       Canceled  "
      ]
     },
     "execution_count": 3,
     "metadata": {},
     "output_type": "execute_result"
    }
   ],
   "source": [
    "Hotel_Reservation_Data=pd.read_csv(\"C:\\\\new python\\\\ML_CAPSTONE\\\\Hotel_Reservations.csv\")\n",
    "Hotel_Reservation_Data.head()"
   ]
  },
  {
   "cell_type": "markdown",
   "id": "87954dac",
   "metadata": {
    "papermill": {
     "duration": 0.012818,
     "end_time": "2023-01-18T10:06:57.317063",
     "exception": false,
     "start_time": "2023-01-18T10:06:57.304245",
     "status": "completed"
    },
    "tags": []
   },
   "source": [
    "Performing Exploratory Data Analysis (EDA)"
   ]
  },
  {
   "cell_type": "code",
   "execution_count": 4,
   "id": "b1717c23",
   "metadata": {
    "execution": {
     "iopub.execute_input": "2023-01-18T10:06:57.345777Z",
     "iopub.status.busy": "2023-01-18T10:06:57.344763Z",
     "iopub.status.idle": "2023-01-18T10:06:57.380161Z",
     "shell.execute_reply": "2023-01-18T10:06:57.378489Z"
    },
    "papermill": {
     "duration": 0.052448,
     "end_time": "2023-01-18T10:06:57.382699",
     "exception": false,
     "start_time": "2023-01-18T10:06:57.330251",
     "status": "completed"
    },
    "tags": []
   },
   "outputs": [
    {
     "name": "stdout",
     "output_type": "stream",
     "text": [
      "<class 'pandas.core.frame.DataFrame'>\n",
      "RangeIndex: 36275 entries, 0 to 36274\n",
      "Data columns (total 19 columns):\n",
      " #   Column                                Non-Null Count  Dtype  \n",
      "---  ------                                --------------  -----  \n",
      " 0   Booking_ID                            36275 non-null  object \n",
      " 1   no_of_adults                          36275 non-null  int64  \n",
      " 2   no_of_children                        36275 non-null  int64  \n",
      " 3   no_of_weekend_nights                  36275 non-null  int64  \n",
      " 4   no_of_week_nights                     36275 non-null  int64  \n",
      " 5   type_of_meal_plan                     36275 non-null  object \n",
      " 6   required_car_parking_space            36275 non-null  int64  \n",
      " 7   room_type_reserved                    36275 non-null  object \n",
      " 8   lead_time                             36275 non-null  int64  \n",
      " 9   arrival_year                          36275 non-null  int64  \n",
      " 10  arrival_month                         36275 non-null  int64  \n",
      " 11  arrival_date                          36275 non-null  int64  \n",
      " 12  market_segment_type                   36275 non-null  object \n",
      " 13  repeated_guest                        36275 non-null  int64  \n",
      " 14  no_of_previous_cancellations          36275 non-null  int64  \n",
      " 15  no_of_previous_bookings_not_canceled  36275 non-null  int64  \n",
      " 16  avg_price_per_room                    36275 non-null  float64\n",
      " 17  no_of_special_requests                36275 non-null  int64  \n",
      " 18  booking_status                        36275 non-null  object \n",
      "dtypes: float64(1), int64(13), object(5)\n",
      "memory usage: 5.3+ MB\n"
     ]
    }
   ],
   "source": [
    "Hotel_Reservation_Data.info()"
   ]
  },
  {
   "cell_type": "code",
   "execution_count": 5,
   "id": "3bfb0255",
   "metadata": {
    "execution": {
     "iopub.execute_input": "2023-01-18T10:06:57.410949Z",
     "iopub.status.busy": "2023-01-18T10:06:57.410289Z",
     "iopub.status.idle": "2023-01-18T10:06:57.452453Z",
     "shell.execute_reply": "2023-01-18T10:06:57.451390Z"
    },
    "papermill": {
     "duration": 0.059104,
     "end_time": "2023-01-18T10:06:57.454874",
     "exception": false,
     "start_time": "2023-01-18T10:06:57.395770",
     "status": "completed"
    },
    "tags": []
   },
   "outputs": [
    {
     "data": {
      "text/plain": [
       "0"
      ]
     },
     "execution_count": 5,
     "metadata": {},
     "output_type": "execute_result"
    }
   ],
   "source": [
    "# Check the presence of duplicate values or not\n",
    "Hotel_Reservation_Data.duplicated().sum()"
   ]
  },
  {
   "cell_type": "code",
   "execution_count": 6,
   "id": "43dabefa",
   "metadata": {
    "execution": {
     "iopub.execute_input": "2023-01-18T10:06:57.483122Z",
     "iopub.status.busy": "2023-01-18T10:06:57.482677Z",
     "iopub.status.idle": "2023-01-18T10:06:57.502390Z",
     "shell.execute_reply": "2023-01-18T10:06:57.501186Z"
    },
    "papermill": {
     "duration": 0.036868,
     "end_time": "2023-01-18T10:06:57.504938",
     "exception": false,
     "start_time": "2023-01-18T10:06:57.468070",
     "status": "completed"
    },
    "tags": []
   },
   "outputs": [
    {
     "data": {
      "text/plain": [
       "Booking_ID                              0\n",
       "no_of_adults                            0\n",
       "no_of_children                          0\n",
       "no_of_weekend_nights                    0\n",
       "no_of_week_nights                       0\n",
       "type_of_meal_plan                       0\n",
       "required_car_parking_space              0\n",
       "room_type_reserved                      0\n",
       "lead_time                               0\n",
       "arrival_year                            0\n",
       "arrival_month                           0\n",
       "arrival_date                            0\n",
       "market_segment_type                     0\n",
       "repeated_guest                          0\n",
       "no_of_previous_cancellations            0\n",
       "no_of_previous_bookings_not_canceled    0\n",
       "avg_price_per_room                      0\n",
       "no_of_special_requests                  0\n",
       "booking_status                          0\n",
       "dtype: int64"
      ]
     },
     "execution_count": 6,
     "metadata": {},
     "output_type": "execute_result"
    }
   ],
   "source": [
    "# Check for Missing Values\n",
    "Hotel_Reservation_Data.isnull().sum()"
   ]
  },
  {
   "cell_type": "code",
   "execution_count": 7,
   "id": "53c648a5",
   "metadata": {
    "execution": {
     "iopub.execute_input": "2023-01-18T10:06:57.595125Z",
     "iopub.status.busy": "2023-01-18T10:06:57.594684Z",
     "iopub.status.idle": "2023-01-18T10:06:57.605088Z",
     "shell.execute_reply": "2023-01-18T10:06:57.603639Z"
    },
    "papermill": {
     "duration": 0.028222,
     "end_time": "2023-01-18T10:06:57.607932",
     "exception": false,
     "start_time": "2023-01-18T10:06:57.579710",
     "status": "completed"
    },
    "tags": []
   },
   "outputs": [],
   "source": [
    "Hotel_Reservation_Data = Hotel_Reservation_Data.drop(columns='Booking_ID')"
   ]
  },
  {
   "cell_type": "code",
   "execution_count": 8,
   "id": "cc79e1cd",
   "metadata": {
    "execution": {
     "iopub.execute_input": "2023-01-18T10:06:57.636565Z",
     "iopub.status.busy": "2023-01-18T10:06:57.636161Z",
     "iopub.status.idle": "2023-01-18T10:06:57.643387Z",
     "shell.execute_reply": "2023-01-18T10:06:57.642016Z"
    },
    "papermill": {
     "duration": 0.024345,
     "end_time": "2023-01-18T10:06:57.645782",
     "exception": false,
     "start_time": "2023-01-18T10:06:57.621437",
     "status": "completed"
    },
    "tags": []
   },
   "outputs": [
    {
     "data": {
      "text/plain": [
       "18"
      ]
     },
     "execution_count": 8,
     "metadata": {},
     "output_type": "execute_result"
    }
   ],
   "source": [
    "len(Hotel_Reservation_Data.columns)"
   ]
  },
  {
   "cell_type": "code",
   "execution_count": 9,
   "id": "1caaf8d5",
   "metadata": {
    "execution": {
     "iopub.execute_input": "2023-01-18T10:06:57.674991Z",
     "iopub.status.busy": "2023-01-18T10:06:57.674570Z",
     "iopub.status.idle": "2023-01-18T10:06:57.685008Z",
     "shell.execute_reply": "2023-01-18T10:06:57.683850Z"
    },
    "papermill": {
     "duration": 0.027953,
     "end_time": "2023-01-18T10:06:57.687412",
     "exception": false,
     "start_time": "2023-01-18T10:06:57.659459",
     "status": "completed"
    },
    "tags": []
   },
   "outputs": [
    {
     "data": {
      "text/plain": [
       "Index(['type_of_meal_plan', 'room_type_reserved', 'market_segment_type',\n",
       "       'booking_status'],\n",
       "      dtype='object')"
      ]
     },
     "execution_count": 9,
     "metadata": {},
     "output_type": "execute_result"
    }
   ],
   "source": [
    "# Categorical Features present in the dataset\n",
    "Categorical_Features = Hotel_Reservation_Data.select_dtypes(['object'])\n",
    "Categorical_Features.columns"
   ]
  },
  {
   "cell_type": "code",
   "execution_count": 10,
   "id": "f9801081",
   "metadata": {
    "execution": {
     "iopub.execute_input": "2023-01-18T10:06:57.717842Z",
     "iopub.status.busy": "2023-01-18T10:06:57.717435Z",
     "iopub.status.idle": "2023-01-18T10:06:57.728843Z",
     "shell.execute_reply": "2023-01-18T10:06:57.727698Z"
    },
    "papermill": {
     "duration": 0.030448,
     "end_time": "2023-01-18T10:06:57.731423",
     "exception": false,
     "start_time": "2023-01-18T10:06:57.700975",
     "status": "completed"
    },
    "tags": []
   },
   "outputs": [
    {
     "data": {
      "text/plain": [
       "Index(['no_of_adults', 'no_of_children', 'no_of_weekend_nights',\n",
       "       'no_of_week_nights', 'required_car_parking_space', 'lead_time',\n",
       "       'arrival_year', 'arrival_month', 'arrival_date', 'repeated_guest',\n",
       "       'no_of_previous_cancellations', 'no_of_previous_bookings_not_canceled',\n",
       "       'avg_price_per_room', 'no_of_special_requests'],\n",
       "      dtype='object')"
      ]
     },
     "execution_count": 10,
     "metadata": {},
     "output_type": "execute_result"
    }
   ],
   "source": [
    "# Numerical Features present in the dataset\n",
    "Numerical_Features = Hotel_Reservation_Data.select_dtypes(['float64','int64'])\n",
    "Numerical_Features.columns"
   ]
  },
  {
   "cell_type": "code",
   "execution_count": 11,
   "id": "ef9bbaa2",
   "metadata": {
    "execution": {
     "iopub.execute_input": "2023-01-18T10:06:57.760452Z",
     "iopub.status.busy": "2023-01-18T10:06:57.760022Z",
     "iopub.status.idle": "2023-01-18T10:07:00.281809Z",
     "shell.execute_reply": "2023-01-18T10:07:00.280630Z"
    },
    "papermill": {
     "duration": 2.539343,
     "end_time": "2023-01-18T10:07:00.284299",
     "exception": false,
     "start_time": "2023-01-18T10:06:57.744956",
     "status": "completed"
    },
    "tags": []
   },
   "outputs": [
    {
     "data": {
      "image/png": "[encoded data removed]",
      "text/plain": [
       "<Figure size 432x288 with 1 Axes>"
      ]
     },
     "metadata": {
      "needs_background": "light"
     },
     "output_type": "display_data"
    },
    {
     "data": {
      "image/png": "[encoded data removed]",
      "text/plain": [
       "<Figure size 432x288 with 1 Axes>"
      ]
     },
     "metadata": {
      "needs_background": "light"
     },
     "output_type": "display_data"
    },
    {
     "data": {
      "image/png": "[encoded data removed]",
      "text/plain": [
       "<Figure size 432x288 with 1 Axes>"
      ]
     },
     "metadata": {
      "needs_background": "light"
     },
     "output_type": "display_data"
    },
    {
     "data": {
      "image/png": "[encoded data removed]",
      "text/plain": [
       "<Figure size 432x288 with 1 Axes>"
      ]
     },
     "metadata": {
      "needs_background": "light"
     },
     "output_type": "display_data"
    },
    {
     "data": {
      "image/png": "[encoded data removed]",
      "text/plain": [
       "<Figure size 432x288 with 1 Axes>"
      ]
     },
     "metadata": {
      "needs_background": "light"
     },
     "output_type": "display_data"
    },
    {
     "data": {
      "image/png": "[encoded data removed]",
      "text/plain": [
       "<Figure size 432x288 with 1 Axes>"
      ]
     },
     "metadata": {
      "needs_background": "light"
     },
     "output_type": "display_data"
    },
    {
     "data": {
      "image/png": "[encoded data removed]",
      "text/plain": [
       "<Figure size 432x288 with 1 Axes>"
      ]
     },
     "metadata": {
      "needs_background": "light"
     },
     "output_type": "display_data"
    },
    {
     "data": {
      "image/png": "[encoded data removed]",
      "text/plain": [
       "<Figure size 432x288 with 1 Axes>"
      ]
     },
     "metadata": {
      "needs_background": "light"
     },
     "output_type": "display_data"
    },
    {
     "data": {
      "image/png": "[encoded data removed]",
      "text/plain": [
       "<Figure size 432x288 with 1 Axes>"
      ]
     },
     "metadata": {
      "needs_background": "light"
     },
     "output_type": "display_data"
    },
    {
     "data": {
      "image/png": "[encoded data removed]",
      "text/plain": [
       "<Figure size 432x288 with 1 Axes>"
      ]
     },
     "metadata": {
      "needs_background": "light"
     },
     "output_type": "display_data"
    },
    {
     "data": {
      "image/png": "[encoded data removed]",
      "text/plain": [
       "<Figure size 432x288 with 1 Axes>"
      ]
     },
     "metadata": {
      "needs_background": "light"
     },
     "output_type": "display_data"
    },
    {
     "data": {
      "image/png": "[encoded data removed]",
      "text/plain": [
       "<Figure size 432x288 with 1 Axes>"
      ]
     },
     "metadata": {
      "needs_background": "light"
     },
     "output_type": "display_data"
    },
    {
     "data": {
      "image/png": "[encoded data removed]",
      "text/plain": [
       "<Figure size 432x288 with 1 Axes>"
      ]
     },
     "metadata": {
      "needs_background": "light"
     },
     "output_type": "display_data"
    },
    {
     "data": {
      "image/png": "[encoded data removed]",
      "text/plain": [
       "<Figure size 432x288 with 1 Axes>"
      ]
     },
     "metadata": {
      "needs_background": "light"
     },
     "output_type": "display_data"
    }
   ],
   "source": [
    "# box plot to detect outlier in dataset\n",
    "for i in Numerical_Features.columns:\n",
    "    Hotel_Reservation_Data[i].plot.box()\n",
    "    plt.xlabel(str(i))\n",
    "    plt.show()"
   ]
  },
  {
   "cell_type": "code",
   "execution_count": 12,
   "id": "1cc1db18",
   "metadata": {
    "execution": {
     "iopub.execute_input": "2023-01-18T10:07:00.319771Z",
     "iopub.status.busy": "2023-01-18T10:07:00.319376Z",
     "iopub.status.idle": "2023-01-18T10:07:00.326752Z",
     "shell.execute_reply": "2023-01-18T10:07:00.325307Z"
    },
    "papermill": {
     "duration": 0.027715,
     "end_time": "2023-01-18T10:07:00.329191",
     "exception": false,
     "start_time": "2023-01-18T10:07:00.301476",
     "status": "completed"
    },
    "tags": []
   },
   "outputs": [],
   "source": [
    "#outlier treatment function declare (detect & changing the value)\n",
    "def outlier_var(x):\n",
    "    if ((x.dtype==\"float\") or (x.dtype == \"int64\")):\n",
    "        q1 = x.quantile(0.25)\n",
    "        q3 = x.quantile(0.75)\n",
    "        iqr = q3 - q1\n",
    "        lc = q1 - 1.5 * iqr\n",
    "        uc = q3 + 1.5 * iqr\n",
    "        x = x.clip(lower = lc, upper = uc)\n",
    "    else:\n",
    "        x\n",
    "    return x "
   ]
  },
  {
   "cell_type": "code",
   "execution_count": 13,
   "id": "04c04839",
   "metadata": {
    "execution": {
     "iopub.execute_input": "2023-01-18T10:07:00.363027Z",
     "iopub.status.busy": "2023-01-18T10:07:00.362643Z",
     "iopub.status.idle": "2023-01-18T10:07:00.445803Z",
     "shell.execute_reply": "2023-01-18T10:07:00.444797Z"
    },
    "papermill": {
     "duration": 0.103096,
     "end_time": "2023-01-18T10:07:00.448366",
     "exception": false,
     "start_time": "2023-01-18T10:07:00.345270",
     "status": "completed"
    },
    "tags": []
   },
   "outputs": [],
   "source": [
    "Hotel_Reservation_Data  = Hotel_Reservation_Data.apply(outlier_var)    #outlier treatmemnt function called"
   ]
  },
  {
   "cell_type": "code",
   "execution_count": 14,
   "id": "2c5d7d2e",
   "metadata": {
    "execution": {
     "iopub.execute_input": "2023-01-18T10:07:00.483464Z",
     "iopub.status.busy": "2023-01-18T10:07:00.482420Z",
     "iopub.status.idle": "2023-01-18T10:07:03.051422Z",
     "shell.execute_reply": "2023-01-18T10:07:03.049193Z"
    },
    "papermill": {
     "duration": 2.592964,
     "end_time": "2023-01-18T10:07:03.057570",
     "exception": false,
     "start_time": "2023-01-18T10:07:00.464606",
     "status": "completed"
    },
    "tags": []
   },
   "outputs": [
    {
     "data": {
      "image/png": "[encoded data removed]",
      "text/plain": [
       "<Figure size 432x288 with 1 Axes>"
      ]
     },
     "metadata": {
      "needs_background": "light"
     },
     "output_type": "display_data"
    },
    {
     "data": {
      "image/png": "[encoded data removed]",
      "text/plain": [
       "<Figure size 432x288 with 1 Axes>"
      ]
     },
     "metadata": {
      "needs_background": "light"
     },
     "output_type": "display_data"
    },
    {
     "data": {
      "image/png": "[encoded data removed]",
      "text/plain": [
       "<Figure size 432x288 with 1 Axes>"
      ]
     },
     "metadata": {
      "needs_background": "light"
     },
     "output_type": "display_data"
    },
    {
     "data": {
      "image/png": "[encoded data removed]",
      "text/plain": [
       "<Figure size 432x288 with 1 Axes>"
      ]
     },
     "metadata": {
      "needs_background": "light"
     },
     "output_type": "display_data"
    },
    {
     "data": {
      "image/png": "[encoded data removed]",
      "text/plain": [
       "<Figure size 432x288 with 1 Axes>"
      ]
     },
     "metadata": {
      "needs_background": "light"
     },
     "output_type": "display_data"
    },
    {
     "data": {
      "image/png": "[encoded data removed]",
      "text/plain": [
       "<Figure size 432x288 with 1 Axes>"
      ]
     },
     "metadata": {
      "needs_background": "light"
     },
     "output_type": "display_data"
    },
    {
     "data": {
      "image/png": "[encoded data removed]",
      "text/plain": [
       "<Figure size 432x288 with 1 Axes>"
      ]
     },
     "metadata": {
      "needs_background": "light"
     },
     "output_type": "display_data"
    },
    {
     "data": {
      "image/png": "[encoded data removed]",
      "text/plain": [
       "<Figure size 432x288 with 1 Axes>"
      ]
     },
     "metadata": {
      "needs_background": "light"
     },
     "output_type": "display_data"
    },
    {
     "data": {
      "image/png": "[encoded data removed]",
      "text/plain": [
       "<Figure size 432x288 with 1 Axes>"
      ]
     },
     "metadata": {
      "needs_background": "light"
     },
     "output_type": "display_data"
    },
    {
     "data": {
      "image/png": "[encoded data removed]",
      "text/plain": [
       "<Figure size 432x288 with 1 Axes>"
      ]
     },
     "metadata": {
      "needs_background": "light"
     },
     "output_type": "display_data"
    },
    {
     "data": {
      "image/png": "[encoded data removed]",
      "text/plain": [
       "<Figure size 432x288 with 1 Axes>"
      ]
     },
     "metadata": {
      "needs_background": "light"
     },
     "output_type": "display_data"
    },
    {
     "data": {
      "image/png": "[encoded data removed]",
      "text/plain": [
       "<Figure size 432x288 with 1 Axes>"
      ]
     },
     "metadata": {
      "needs_background": "light"
     },
     "output_type": "display_data"
    },
    {
     "data": {
      "image/png": "[encoded data removed]",
      "text/plain": [
       "<Figure size 432x288 with 1 Axes>"
      ]
     },
     "metadata": {
      "needs_background": "light"
     },
     "output_type": "display_data"
    },
    {
     "data": {
      "image/png": "[encoded data removed]",
      "text/plain": [
       "<Figure size 432x288 with 1 Axes>"
      ]
     },
     "metadata": {
      "needs_background": "light"
     },
     "output_type": "display_data"
    }
   ],
   "source": [
    "# box plot after treating the detected outlier in dataset\n",
    "for i in Numerical_Features.columns:\n",
    "    Hotel_Reservation_Data[i].plot.box()\n",
    "    plt.xlabel(str(i))\n",
    "    plt.show()"
   ]
  },
  {
   "cell_type": "code",
   "execution_count": 15,
   "id": "aae9e758",
   "metadata": {
    "execution": {
     "iopub.execute_input": "2023-01-18T10:07:03.118049Z",
     "iopub.status.busy": "2023-01-18T10:07:03.117431Z",
     "iopub.status.idle": "2023-01-18T10:07:08.478337Z",
     "shell.execute_reply": "2023-01-18T10:07:08.477071Z"
    },
    "papermill": {
     "duration": 5.38385,
     "end_time": "2023-01-18T10:07:08.480894",
     "exception": false,
     "start_time": "2023-01-18T10:07:03.097044",
     "status": "completed"
    },
    "tags": []
   },
   "outputs": [
    {
     "name": "stdout",
     "output_type": "stream",
     "text": [
      "no_of_adults\n",
      "0.0\n"
     ]
    },
    {
     "name": "stderr",
     "output_type": "stream",
     "text": [
      "C:\\new python\\venv\\lib\\site-packages\\seaborn\\distributions.py:2619: FutureWarning: `distplot` is a deprecated function and will be removed in a future version. Please adapt your code to use either `displot` (a figure-level function with similar flexibility) or `histplot` (an axes-level function for histograms).\n",
      "  warnings.warn(msg, FutureWarning)\n",
      "C:\\new python\\venv\\lib\\site-packages\\seaborn\\distributions.py:316: UserWarning: Dataset has 0 variance; skipping density estimate. Pass `warn_singular=False` to disable this warning.\n",
      "  warnings.warn(msg, UserWarning)\n"
     ]
    },
    {
     "data": {
      "image/png": "[encoded data removed]",
      "text/plain": [
       "<Figure size 432x288 with 1 Axes>"
      ]
     },
     "metadata": {
      "needs_background": "light"
     },
     "output_type": "display_data"
    },
    {
     "name": "stdout",
     "output_type": "stream",
     "text": [
      "no_of_children\n",
      "0.0\n"
     ]
    },
    {
     "name": "stderr",
     "output_type": "stream",
     "text": [
      "C:\\new python\\venv\\lib\\site-packages\\seaborn\\distributions.py:2619: FutureWarning: `distplot` is a deprecated function and will be removed in a future version. Please adapt your code to use either `displot` (a figure-level function with similar flexibility) or `histplot` (an axes-level function for histograms).\n",
      "  warnings.warn(msg, FutureWarning)\n",
      "C:\\new python\\venv\\lib\\site-packages\\seaborn\\distributions.py:316: UserWarning: Dataset has 0 variance; skipping density estimate. Pass `warn_singular=False` to disable this warning.\n",
      "  warnings.warn(msg, UserWarning)\n"
     ]
    },
    {
     "data": {
      "image/png": "[encoded data removed]",
      "text/plain": [
       "<Figure size 432x288 with 1 Axes>"
      ]
     },
     "metadata": {
      "needs_background": "light"
     },
     "output_type": "display_data"
    },
    {
     "name": "stderr",
     "output_type": "stream",
     "text": [
      "C:\\new python\\venv\\lib\\site-packages\\seaborn\\distributions.py:2619: FutureWarning: `distplot` is a deprecated function and will be removed in a future version. Please adapt your code to use either `displot` (a figure-level function with similar flexibility) or `histplot` (an axes-level function for histograms).\n",
      "  warnings.warn(msg, FutureWarning)\n"
     ]
    },
    {
     "name": "stdout",
     "output_type": "stream",
     "text": [
      "no_of_weekend_nights\n",
      "0.6852788147950205\n"
     ]
    },
    {
     "data": {
      "image/png": "[encoded data removed]",
      "text/plain": [
       "<Figure size 432x288 with 1 Axes>"
      ]
     },
     "metadata": {
      "needs_background": "light"
     },
     "output_type": "display_data"
    },
    {
     "name": "stdout",
     "output_type": "stream",
     "text": [
      "no_of_week_nights\n",
      "0.604579669967297\n"
     ]
    },
    {
     "name": "stderr",
     "output_type": "stream",
     "text": [
      "C:\\new python\\venv\\lib\\site-packages\\seaborn\\distributions.py:2619: FutureWarning: `distplot` is a deprecated function and will be removed in a future version. Please adapt your code to use either `displot` (a figure-level function with similar flexibility) or `histplot` (an axes-level function for histograms).\n",
      "  warnings.warn(msg, FutureWarning)\n"
     ]
    },
    {
     "data": {
      "image/png": "[encoded data removed]",
      "text/plain": [
       "<Figure size 432x288 with 1 Axes>"
      ]
     },
     "metadata": {
      "needs_background": "light"
     },
     "output_type": "display_data"
    },
    {
     "name": "stdout",
     "output_type": "stream",
     "text": [
      "required_car_parking_space\n",
      "0.0\n"
     ]
    },
    {
     "name": "stderr",
     "output_type": "stream",
     "text": [
      "C:\\new python\\venv\\lib\\site-packages\\seaborn\\distributions.py:2619: FutureWarning: `distplot` is a deprecated function and will be removed in a future version. Please adapt your code to use either `displot` (a figure-level function with similar flexibility) or `histplot` (an axes-level function for histograms).\n",
      "  warnings.warn(msg, FutureWarning)\n",
      "C:\\new python\\venv\\lib\\site-packages\\seaborn\\distributions.py:316: UserWarning: Dataset has 0 variance; skipping density estimate. Pass `warn_singular=False` to disable this warning.\n",
      "  warnings.warn(msg, UserWarning)\n"
     ]
    },
    {
     "data": {
      "image/png": "[encoded data removed]",
      "text/plain": [
       "<Figure size 432x288 with 1 Axes>"
      ]
     },
     "metadata": {
      "needs_background": "light"
     },
     "output_type": "display_data"
    },
    {
     "name": "stdout",
     "output_type": "stream",
     "text": [
      "lead_time\n",
      "1.0732941440527415\n"
     ]
    },
    {
     "name": "stderr",
     "output_type": "stream",
     "text": [
      "C:\\new python\\venv\\lib\\site-packages\\seaborn\\distributions.py:2619: FutureWarning: `distplot` is a deprecated function and will be removed in a future version. Please adapt your code to use either `displot` (a figure-level function with similar flexibility) or `histplot` (an axes-level function for histograms).\n",
      "  warnings.warn(msg, FutureWarning)\n"
     ]
    },
    {
     "data": {
      "image/png": "[encoded data removed]",
      "text/plain": [
       "<Figure size 432x288 with 1 Axes>"
      ]
     },
     "metadata": {
      "needs_background": "light"
     },
     "output_type": "display_data"
    },
    {
     "name": "stdout",
     "output_type": "stream",
     "text": [
      "arrival_year\n",
      "0.0\n"
     ]
    },
    {
     "name": "stderr",
     "output_type": "stream",
     "text": [
      "C:\\new python\\venv\\lib\\site-packages\\seaborn\\distributions.py:2619: FutureWarning: `distplot` is a deprecated function and will be removed in a future version. Please adapt your code to use either `displot` (a figure-level function with similar flexibility) or `histplot` (an axes-level function for histograms).\n",
      "  warnings.warn(msg, FutureWarning)\n",
      "C:\\new python\\venv\\lib\\site-packages\\seaborn\\distributions.py:316: UserWarning: Dataset has 0 variance; skipping density estimate. Pass `warn_singular=False` to disable this warning.\n",
      "  warnings.warn(msg, UserWarning)\n"
     ]
    },
    {
     "data": {
      "image/png": "[encoded data removed]",
      "text/plain": [
       "<Figure size 432x288 with 1 Axes>"
      ]
     },
     "metadata": {
      "needs_background": "light"
     },
     "output_type": "display_data"
    },
    {
     "name": "stdout",
     "output_type": "stream",
     "text": [
      "arrival_month\n",
      "-0.3482144521729693\n"
     ]
    },
    {
     "name": "stderr",
     "output_type": "stream",
     "text": [
      "C:\\new python\\venv\\lib\\site-packages\\seaborn\\distributions.py:2619: FutureWarning: `distplot` is a deprecated function and will be removed in a future version. Please adapt your code to use either `displot` (a figure-level function with similar flexibility) or `histplot` (an axes-level function for histograms).\n",
      "  warnings.warn(msg, FutureWarning)\n"
     ]
    },
    {
     "data": {
      "image/png": "[encoded data removed]",
      "text/plain": [
       "<Figure size 432x288 with 1 Axes>"
      ]
     },
     "metadata": {
      "needs_background": "light"
     },
     "output_type": "display_data"
    },
    {
     "name": "stdout",
     "output_type": "stream",
     "text": [
      "arrival_date\n",
      "0.02880737786859992\n"
     ]
    },
    {
     "name": "stderr",
     "output_type": "stream",
     "text": [
      "C:\\new python\\venv\\lib\\site-packages\\seaborn\\distributions.py:2619: FutureWarning: `distplot` is a deprecated function and will be removed in a future version. Please adapt your code to use either `displot` (a figure-level function with similar flexibility) or `histplot` (an axes-level function for histograms).\n",
      "  warnings.warn(msg, FutureWarning)\n"
     ]
    },
    {
     "data": {
      "image/png": "[encoded data removed]",
      "text/plain": [
       "<Figure size 432x288 with 1 Axes>"
      ]
     },
     "metadata": {
      "needs_background": "light"
     },
     "output_type": "display_data"
    },
    {
     "name": "stdout",
     "output_type": "stream",
     "text": [
      "repeated_guest\n",
      "0.0\n"
     ]
    },
    {
     "name": "stderr",
     "output_type": "stream",
     "text": [
      "C:\\new python\\venv\\lib\\site-packages\\seaborn\\distributions.py:2619: FutureWarning: `distplot` is a deprecated function and will be removed in a future version. Please adapt your code to use either `displot` (a figure-level function with similar flexibility) or `histplot` (an axes-level function for histograms).\n",
      "  warnings.warn(msg, FutureWarning)\n",
      "C:\\new python\\venv\\lib\\site-packages\\seaborn\\distributions.py:316: UserWarning: Dataset has 0 variance; skipping density estimate. Pass `warn_singular=False` to disable this warning.\n",
      "  warnings.warn(msg, UserWarning)\n"
     ]
    },
    {
     "data": {
      "image/png": "[encoded data removed]",
      "text/plain": [
       "<Figure size 432x288 with 1 Axes>"
      ]
     },
     "metadata": {
      "needs_background": "light"
     },
     "output_type": "display_data"
    },
    {
     "name": "stdout",
     "output_type": "stream",
     "text": [
      "no_of_previous_cancellations\n",
      "0.0\n"
     ]
    },
    {
     "name": "stderr",
     "output_type": "stream",
     "text": [
      "C:\\new python\\venv\\lib\\site-packages\\seaborn\\distributions.py:2619: FutureWarning: `distplot` is a deprecated function and will be removed in a future version. Please adapt your code to use either `displot` (a figure-level function with similar flexibility) or `histplot` (an axes-level function for histograms).\n",
      "  warnings.warn(msg, FutureWarning)\n",
      "C:\\new python\\venv\\lib\\site-packages\\seaborn\\distributions.py:316: UserWarning: Dataset has 0 variance; skipping density estimate. Pass `warn_singular=False` to disable this warning.\n",
      "  warnings.warn(msg, UserWarning)\n"
     ]
    },
    {
     "data": {
      "image/png": "[encoded data removed]",
      "text/plain": [
       "<Figure size 432x288 with 1 Axes>"
      ]
     },
     "metadata": {
      "needs_background": "light"
     },
     "output_type": "display_data"
    },
    {
     "name": "stdout",
     "output_type": "stream",
     "text": [
      "no_of_previous_bookings_not_canceled\n",
      "0.0\n"
     ]
    },
    {
     "name": "stderr",
     "output_type": "stream",
     "text": [
      "C:\\new python\\venv\\lib\\site-packages\\seaborn\\distributions.py:2619: FutureWarning: `distplot` is a deprecated function and will be removed in a future version. Please adapt your code to use either `displot` (a figure-level function with similar flexibility) or `histplot` (an axes-level function for histograms).\n",
      "  warnings.warn(msg, FutureWarning)\n",
      "C:\\new python\\venv\\lib\\site-packages\\seaborn\\distributions.py:316: UserWarning: Dataset has 0 variance; skipping density estimate. Pass `warn_singular=False` to disable this warning.\n",
      "  warnings.warn(msg, UserWarning)\n"
     ]
    },
    {
     "data": {
      "image/png": "[encoded data removed]",
      "text/plain": [
       "<Figure size 432x288 with 1 Axes>"
      ]
     },
     "metadata": {
      "needs_background": "light"
     },
     "output_type": "display_data"
    },
    {
     "name": "stderr",
     "output_type": "stream",
     "text": [
      "C:\\new python\\venv\\lib\\site-packages\\seaborn\\distributions.py:2619: FutureWarning: `distplot` is a deprecated function and will be removed in a future version. Please adapt your code to use either `displot` (a figure-level function with similar flexibility) or `histplot` (an axes-level function for histograms).\n",
      "  warnings.warn(msg, FutureWarning)\n"
     ]
    },
    {
     "name": "stdout",
     "output_type": "stream",
     "text": [
      "avg_price_per_room\n",
      "0.3464213145463844\n"
     ]
    },
    {
     "data": {
      "image/png": "[encoded data removed]",
      "text/plain": [
       "<Figure size 432x288 with 1 Axes>"
      ]
     },
     "metadata": {
      "needs_background": "light"
     },
     "output_type": "display_data"
    },
    {
     "name": "stdout",
     "output_type": "stream",
     "text": [
      "no_of_special_requests\n",
      "0.876591135627164\n"
     ]
    },
    {
     "name": "stderr",
     "output_type": "stream",
     "text": [
      "C:\\new python\\venv\\lib\\site-packages\\seaborn\\distributions.py:2619: FutureWarning: `distplot` is a deprecated function and will be removed in a future version. Please adapt your code to use either `displot` (a figure-level function with similar flexibility) or `histplot` (an axes-level function for histograms).\n",
      "  warnings.warn(msg, FutureWarning)\n"
     ]
    },
    {
     "data": {
      "image/png": "[encoded data removed]",
      "text/plain": [
       "<Figure size 432x288 with 1 Axes>"
      ]
     },
     "metadata": {
      "needs_background": "light"
     },
     "output_type": "display_data"
    }
   ],
   "source": [
    "from scipy.stats import skew                     #checking distribution of data\n",
    "for col in Numerical_Features.columns:\n",
    "    print(col)\n",
    "    print(skew(Hotel_Reservation_Data[col]))\n",
    "    \n",
    "    plt.figure()\n",
    "    sns.distplot(Hotel_Reservation_Data[col])\n",
    "    plt.show()"
   ]
  },
  {
   "cell_type": "markdown",
   "id": "38290833",
   "metadata": {
    "papermill": {
     "duration": 0.02548,
     "end_time": "2023-01-18T10:07:08.530958",
     "exception": false,
     "start_time": "2023-01-18T10:07:08.505478",
     "status": "completed"
    },
    "tags": []
   },
   "source": [
    "As we can see there are most features where skewness value lies in between 0 to 0.5, so we can say they are fairly symmetric. But there are some features for which skewness values is quite high so we can reduce the skewness of data with different transformation and if it still remains same we can use random forest for modelling purpose"
   ]
  },
  {
   "cell_type": "code",
   "execution_count": 16,
   "id": "40af8601",
   "metadata": {
    "execution": {
     "iopub.execute_input": "2023-01-18T10:07:08.580615Z",
     "iopub.status.busy": "2023-01-18T10:07:08.580213Z",
     "iopub.status.idle": "2023-01-18T10:07:08.587665Z",
     "shell.execute_reply": "2023-01-18T10:07:08.586462Z"
    },
    "papermill": {
     "duration": 0.035213,
     "end_time": "2023-01-18T10:07:08.590161",
     "exception": false,
     "start_time": "2023-01-18T10:07:08.554948",
     "status": "completed"
    },
    "tags": []
   },
   "outputs": [
    {
     "data": {
      "text/plain": [
       "Index(['type_of_meal_plan', 'room_type_reserved', 'market_segment_type',\n",
       "       'booking_status'],\n",
       "      dtype='object')"
      ]
     },
     "execution_count": 16,
     "metadata": {},
     "output_type": "execute_result"
    }
   ],
   "source": [
    "Categorical_Features.columns"
   ]
  },
  {
   "cell_type": "code",
   "execution_count": 17,
   "id": "80c0cf70",
   "metadata": {
    "execution": {
     "iopub.execute_input": "2023-01-18T10:07:08.640807Z",
     "iopub.status.busy": "2023-01-18T10:07:08.640409Z",
     "iopub.status.idle": "2023-01-18T10:07:08.651063Z",
     "shell.execute_reply": "2023-01-18T10:07:08.650184Z"
    },
    "papermill": {
     "duration": 0.038873,
     "end_time": "2023-01-18T10:07:08.653297",
     "exception": false,
     "start_time": "2023-01-18T10:07:08.614424",
     "status": "completed"
    },
    "tags": []
   },
   "outputs": [
    {
     "data": {
      "text/plain": [
       "Meal Plan 1     27835\n",
       "Not Selected     5130\n",
       "Meal Plan 2      3305\n",
       "Meal Plan 3         5\n",
       "Name: type_of_meal_plan, dtype: int64"
      ]
     },
     "execution_count": 17,
     "metadata": {},
     "output_type": "execute_result"
    }
   ],
   "source": [
    "Categorical_Features.type_of_meal_plan.value_counts()"
   ]
  },
  {
   "cell_type": "code",
   "execution_count": 18,
   "id": "9198a205",
   "metadata": {
    "execution": {
     "iopub.execute_input": "2023-01-18T10:07:08.706613Z",
     "iopub.status.busy": "2023-01-18T10:07:08.706186Z",
     "iopub.status.idle": "2023-01-18T10:07:08.716882Z",
     "shell.execute_reply": "2023-01-18T10:07:08.715646Z"
    },
    "papermill": {
     "duration": 0.041592,
     "end_time": "2023-01-18T10:07:08.719190",
     "exception": false,
     "start_time": "2023-01-18T10:07:08.677598",
     "status": "completed"
    },
    "tags": []
   },
   "outputs": [
    {
     "data": {
      "text/plain": [
       "Room_Type 1    28130\n",
       "Room_Type 4     6057\n",
       "Room_Type 6      966\n",
       "Room_Type 2      692\n",
       "Room_Type 5      265\n",
       "Room_Type 7      158\n",
       "Room_Type 3        7\n",
       "Name: room_type_reserved, dtype: int64"
      ]
     },
     "execution_count": 18,
     "metadata": {},
     "output_type": "execute_result"
    }
   ],
   "source": [
    "Categorical_Features.room_type_reserved.value_counts()"
   ]
  },
  {
   "cell_type": "code",
   "execution_count": 19,
   "id": "bc8ec3bc",
   "metadata": {
    "execution": {
     "iopub.execute_input": "2023-01-18T10:07:08.770591Z",
     "iopub.status.busy": "2023-01-18T10:07:08.769930Z",
     "iopub.status.idle": "2023-01-18T10:07:08.780361Z",
     "shell.execute_reply": "2023-01-18T10:07:08.779195Z"
    },
    "papermill": {
     "duration": 0.038767,
     "end_time": "2023-01-18T10:07:08.782608",
     "exception": false,
     "start_time": "2023-01-18T10:07:08.743841",
     "status": "completed"
    },
    "tags": []
   },
   "outputs": [
    {
     "data": {
      "text/plain": [
       "Online           23214\n",
       "Offline          10528\n",
       "Corporate         2017\n",
       "Complementary      391\n",
       "Aviation           125\n",
       "Name: market_segment_type, dtype: int64"
      ]
     },
     "execution_count": 19,
     "metadata": {},
     "output_type": "execute_result"
    }
   ],
   "source": [
    "Categorical_Features.market_segment_type.value_counts()"
   ]
  },
  {
   "cell_type": "code",
   "execution_count": 20,
   "id": "863983b3",
   "metadata": {
    "execution": {
     "iopub.execute_input": "2023-01-18T10:07:08.834888Z",
     "iopub.status.busy": "2023-01-18T10:07:08.834236Z",
     "iopub.status.idle": "2023-01-18T10:07:08.844788Z",
     "shell.execute_reply": "2023-01-18T10:07:08.843682Z"
    },
    "papermill": {
     "duration": 0.039097,
     "end_time": "2023-01-18T10:07:08.847095",
     "exception": false,
     "start_time": "2023-01-18T10:07:08.807998",
     "status": "completed"
    },
    "tags": []
   },
   "outputs": [
    {
     "data": {
      "text/plain": [
       "Not_Canceled    24390\n",
       "Canceled        11885\n",
       "Name: booking_status, dtype: int64"
      ]
     },
     "execution_count": 20,
     "metadata": {},
     "output_type": "execute_result"
    }
   ],
   "source": [
    "Categorical_Features.booking_status.value_counts()"
   ]
  },
  {
   "cell_type": "code",
   "execution_count": 21,
   "id": "054edf8a",
   "metadata": {
    "execution": {
     "iopub.execute_input": "2023-01-18T10:07:08.900362Z",
     "iopub.status.busy": "2023-01-18T10:07:08.899935Z",
     "iopub.status.idle": "2023-01-18T10:07:08.910552Z",
     "shell.execute_reply": "2023-01-18T10:07:08.909299Z"
    },
    "papermill": {
     "duration": 0.0406,
     "end_time": "2023-01-18T10:07:08.913235",
     "exception": false,
     "start_time": "2023-01-18T10:07:08.872635",
     "status": "completed"
    },
    "tags": []
   },
   "outputs": [],
   "source": [
    "# converting target variable into numerical value\n",
    "Hotel_Reservation_Data['booking_status'] = np.where((Hotel_Reservation_Data['booking_status'] == 'Canceled'),1,0)"
   ]
  },
  {
   "cell_type": "code",
   "execution_count": 22,
   "id": "f5db9fe1",
   "metadata": {
    "execution": {
     "iopub.execute_input": "2023-01-18T10:07:08.965729Z",
     "iopub.status.busy": "2023-01-18T10:07:08.965059Z",
     "iopub.status.idle": "2023-01-18T10:07:08.989703Z",
     "shell.execute_reply": "2023-01-18T10:07:08.988246Z"
    },
    "papermill": {
     "duration": 0.053581,
     "end_time": "2023-01-18T10:07:08.992284",
     "exception": false,
     "start_time": "2023-01-18T10:07:08.938703",
     "status": "completed"
    },
    "tags": []
   },
   "outputs": [
    {
     "data": {
      "text/html": [
       "<div>\n",
       "<style scoped>\n",
       "    .dataframe tbody tr th:only-of-type {\n",
       "        vertical-align: middle;\n",
       "    }\n",
       "\n",
       "    .dataframe tbody tr th {\n",
       "        vertical-align: top;\n",
       "    }\n",
       "\n",
       "    .dataframe thead th {\n",
       "        text-align: right;\n",
       "    }\n",
       "</style>\n",
       "<table border=\"1\" class=\"dataframe\">\n",
       "  <thead>\n",
       "    <tr style=\"text-align: right;\">\n",
       "      <th></th>\n",
       "      <th>no_of_adults</th>\n",
       "      <th>no_of_children</th>\n",
       "      <th>no_of_weekend_nights</th>\n",
       "      <th>no_of_week_nights</th>\n",
       "      <th>type_of_meal_plan</th>\n",
       "      <th>required_car_parking_space</th>\n",
       "      <th>room_type_reserved</th>\n",
       "      <th>lead_time</th>\n",
       "      <th>arrival_year</th>\n",
       "      <th>arrival_month</th>\n",
       "      <th>arrival_date</th>\n",
       "      <th>market_segment_type</th>\n",
       "      <th>repeated_guest</th>\n",
       "      <th>no_of_previous_cancellations</th>\n",
       "      <th>no_of_previous_bookings_not_canceled</th>\n",
       "      <th>avg_price_per_room</th>\n",
       "      <th>no_of_special_requests</th>\n",
       "      <th>booking_status</th>\n",
       "    </tr>\n",
       "  </thead>\n",
       "  <tbody>\n",
       "    <tr>\n",
       "      <th>0</th>\n",
       "      <td>2.0</td>\n",
       "      <td>0.0</td>\n",
       "      <td>1.0</td>\n",
       "      <td>2.0</td>\n",
       "      <td>Meal Plan 1</td>\n",
       "      <td>0.0</td>\n",
       "      <td>Room_Type 1</td>\n",
       "      <td>224.0</td>\n",
       "      <td>2018.0</td>\n",
       "      <td>10</td>\n",
       "      <td>2</td>\n",
       "      <td>Offline</td>\n",
       "      <td>0.0</td>\n",
       "      <td>0.0</td>\n",
       "      <td>0.0</td>\n",
       "      <td>65.00</td>\n",
       "      <td>0.0</td>\n",
       "      <td>0</td>\n",
       "    </tr>\n",
       "    <tr>\n",
       "      <th>1</th>\n",
       "      <td>2.0</td>\n",
       "      <td>0.0</td>\n",
       "      <td>2.0</td>\n",
       "      <td>3.0</td>\n",
       "      <td>Not Selected</td>\n",
       "      <td>0.0</td>\n",
       "      <td>Room_Type 1</td>\n",
       "      <td>5.0</td>\n",
       "      <td>2018.0</td>\n",
       "      <td>11</td>\n",
       "      <td>6</td>\n",
       "      <td>Online</td>\n",
       "      <td>0.0</td>\n",
       "      <td>0.0</td>\n",
       "      <td>0.0</td>\n",
       "      <td>106.68</td>\n",
       "      <td>1.0</td>\n",
       "      <td>0</td>\n",
       "    </tr>\n",
       "    <tr>\n",
       "      <th>2</th>\n",
       "      <td>2.0</td>\n",
       "      <td>0.0</td>\n",
       "      <td>2.0</td>\n",
       "      <td>1.0</td>\n",
       "      <td>Meal Plan 1</td>\n",
       "      <td>0.0</td>\n",
       "      <td>Room_Type 1</td>\n",
       "      <td>1.0</td>\n",
       "      <td>2018.0</td>\n",
       "      <td>2</td>\n",
       "      <td>28</td>\n",
       "      <td>Online</td>\n",
       "      <td>0.0</td>\n",
       "      <td>0.0</td>\n",
       "      <td>0.0</td>\n",
       "      <td>60.00</td>\n",
       "      <td>0.0</td>\n",
       "      <td>1</td>\n",
       "    </tr>\n",
       "    <tr>\n",
       "      <th>3</th>\n",
       "      <td>2.0</td>\n",
       "      <td>0.0</td>\n",
       "      <td>0.0</td>\n",
       "      <td>2.0</td>\n",
       "      <td>Meal Plan 1</td>\n",
       "      <td>0.0</td>\n",
       "      <td>Room_Type 1</td>\n",
       "      <td>211.0</td>\n",
       "      <td>2018.0</td>\n",
       "      <td>5</td>\n",
       "      <td>20</td>\n",
       "      <td>Online</td>\n",
       "      <td>0.0</td>\n",
       "      <td>0.0</td>\n",
       "      <td>0.0</td>\n",
       "      <td>100.00</td>\n",
       "      <td>0.0</td>\n",
       "      <td>1</td>\n",
       "    </tr>\n",
       "    <tr>\n",
       "      <th>4</th>\n",
       "      <td>2.0</td>\n",
       "      <td>0.0</td>\n",
       "      <td>1.0</td>\n",
       "      <td>1.0</td>\n",
       "      <td>Not Selected</td>\n",
       "      <td>0.0</td>\n",
       "      <td>Room_Type 1</td>\n",
       "      <td>48.0</td>\n",
       "      <td>2018.0</td>\n",
       "      <td>4</td>\n",
       "      <td>11</td>\n",
       "      <td>Online</td>\n",
       "      <td>0.0</td>\n",
       "      <td>0.0</td>\n",
       "      <td>0.0</td>\n",
       "      <td>94.50</td>\n",
       "      <td>0.0</td>\n",
       "      <td>1</td>\n",
       "    </tr>\n",
       "  </tbody>\n",
       "</table>\n",
       "</div>"
      ],
      "text/plain": [
       "   no_of_adults  no_of_children  no_of_weekend_nights  no_of_week_nights  \\\n",
       "0           2.0             0.0                   1.0                2.0   \n",
       "1           2.0             0.0                   2.0                3.0   \n",
       "2           2.0             0.0                   2.0                1.0   \n",
       "3           2.0             0.0                   0.0                2.0   \n",
       "4           2.0             0.0                   1.0                1.0   \n",
       "\n",
       "  type_of_meal_plan  required_car_parking_space room_type_reserved  lead_time  \\\n",
       "0       Meal Plan 1                         0.0        Room_Type 1      224.0   \n",
       "1      Not Selected                         0.0        Room_Type 1        5.0   \n",
       "2       Meal Plan 1                         0.0        Room_Type 1        1.0   \n",
       "3       Meal Plan 1                         0.0        Room_Type 1      211.0   \n",
       "4      Not Selected                         0.0        Room_Type 1       48.0   \n",
       "\n",
       "   arrival_year  arrival_month  arrival_date market_segment_type  \\\n",
       "0        2018.0             10             2             Offline   \n",
       "1        2018.0             11             6              Online   \n",
       "2        2018.0              2            28              Online   \n",
       "3        2018.0              5            20              Online   \n",
       "4        2018.0              4            11              Online   \n",
       "\n",
       "   repeated_guest  no_of_previous_cancellations  \\\n",
       "0             0.0                           0.0   \n",
       "1             0.0                           0.0   \n",
       "2             0.0                           0.0   \n",
       "3             0.0                           0.0   \n",
       "4             0.0                           0.0   \n",
       "\n",
       "   no_of_previous_bookings_not_canceled  avg_price_per_room  \\\n",
       "0                                   0.0               65.00   \n",
       "1                                   0.0              106.68   \n",
       "2                                   0.0               60.00   \n",
       "3                                   0.0              100.00   \n",
       "4                                   0.0               94.50   \n",
       "\n",
       "   no_of_special_requests  booking_status  \n",
       "0                     0.0               0  \n",
       "1                     1.0               0  \n",
       "2                     0.0               1  \n",
       "3                     0.0               1  \n",
       "4                     0.0               1  "
      ]
     },
     "execution_count": 22,
     "metadata": {},
     "output_type": "execute_result"
    }
   ],
   "source": [
    "Hotel_Reservation_Data.head()"
   ]
  },
  {
   "cell_type": "code",
   "execution_count": 23,
   "id": "dfdf5e9e",
   "metadata": {
    "execution": {
     "iopub.execute_input": "2023-01-18T10:07:09.045946Z",
     "iopub.status.busy": "2023-01-18T10:07:09.045322Z",
     "iopub.status.idle": "2023-01-18T10:07:09.053333Z",
     "shell.execute_reply": "2023-01-18T10:07:09.052164Z"
    },
    "papermill": {
     "duration": 0.037929,
     "end_time": "2023-01-18T10:07:09.055911",
     "exception": false,
     "start_time": "2023-01-18T10:07:09.017982",
     "status": "completed"
    },
    "tags": []
   },
   "outputs": [
    {
     "data": {
      "text/plain": [
       "0    24390\n",
       "1    11885\n",
       "Name: booking_status, dtype: int64"
      ]
     },
     "execution_count": 23,
     "metadata": {},
     "output_type": "execute_result"
    }
   ],
   "source": [
    "Hotel_Reservation_Data['booking_status'].value_counts()"
   ]
  },
  {
   "cell_type": "code",
   "execution_count": 24,
   "id": "eddd145a",
   "metadata": {},
   "outputs": [],
   "source": [
    "#seperating dependt and indpnt variables"
   ]
  },
  {
   "cell_type": "code",
   "execution_count": 25,
   "id": "e4f41a7d",
   "metadata": {
    "execution": {
     "iopub.execute_input": "2023-01-18T10:07:09.108945Z",
     "iopub.status.busy": "2023-01-18T10:07:09.108278Z",
     "iopub.status.idle": "2023-01-18T10:07:09.115596Z",
     "shell.execute_reply": "2023-01-18T10:07:09.114731Z"
    },
    "papermill": {
     "duration": 0.036642,
     "end_time": "2023-01-18T10:07:09.117951",
     "exception": false,
     "start_time": "2023-01-18T10:07:09.081309",
     "status": "completed"
    },
    "tags": []
   },
   "outputs": [],
   "source": [
    "X = Hotel_Reservation_Data.iloc[:,0:17]    "
   ]
  },
  {
   "cell_type": "code",
   "execution_count": 26,
   "id": "8de9a364",
   "metadata": {
    "execution": {
     "iopub.execute_input": "2023-01-18T10:07:09.172509Z",
     "iopub.status.busy": "2023-01-18T10:07:09.171676Z",
     "iopub.status.idle": "2023-01-18T10:07:09.177830Z",
     "shell.execute_reply": "2023-01-18T10:07:09.176688Z"
    },
    "papermill": {
     "duration": 0.037274,
     "end_time": "2023-01-18T10:07:09.180584",
     "exception": false,
     "start_time": "2023-01-18T10:07:09.143310",
     "status": "completed"
    },
    "tags": []
   },
   "outputs": [],
   "source": [
    "Y = Hotel_Reservation_Data.iloc[:,-1]"
   ]
  },
  {
   "cell_type": "markdown",
   "id": "8f111945",
   "metadata": {
    "papermill": {
     "duration": 0.02556,
     "end_time": "2023-01-18T10:07:09.232710",
     "exception": false,
     "start_time": "2023-01-18T10:07:09.207150",
     "status": "completed"
    },
    "tags": []
   },
   "source": [
    "Creating Train data and Test data"
   ]
  },
  {
   "cell_type": "code",
   "execution_count": 27,
   "id": "9be33b84",
   "metadata": {
    "execution": {
     "iopub.execute_input": "2023-01-18T10:07:09.285746Z",
     "iopub.status.busy": "2023-01-18T10:07:09.285345Z",
     "iopub.status.idle": "2023-01-18T10:07:09.503681Z",
     "shell.execute_reply": "2023-01-18T10:07:09.502371Z"
    },
    "papermill": {
     "duration": 0.247587,
     "end_time": "2023-01-18T10:07:09.506548",
     "exception": false,
     "start_time": "2023-01-18T10:07:09.258961",
     "status": "completed"
    },
    "tags": []
   },
   "outputs": [],
   "source": [
    "from sklearn.model_selection import train_test_split\n",
    "\n",
    "X_train,X_test,y_train,y_test=train_test_split(X,Y,\n",
    "                                              test_size=0.3,\n",
    "                                              random_state=42,\n",
    "                                              )"
   ]
  },
  {
   "cell_type": "code",
   "execution_count": 28,
   "id": "bfe48529",
   "metadata": {
    "execution": {
     "iopub.execute_input": "2023-01-18T10:07:09.559872Z",
     "iopub.status.busy": "2023-01-18T10:07:09.558863Z",
     "iopub.status.idle": "2023-01-18T10:07:09.583929Z",
     "shell.execute_reply": "2023-01-18T10:07:09.582820Z"
    },
    "papermill": {
     "duration": 0.054581,
     "end_time": "2023-01-18T10:07:09.586603",
     "exception": false,
     "start_time": "2023-01-18T10:07:09.532022",
     "status": "completed"
    },
    "tags": []
   },
   "outputs": [
    {
     "data": {
      "text/html": [
       "<div>\n",
       "<style scoped>\n",
       "    .dataframe tbody tr th:only-of-type {\n",
       "        vertical-align: middle;\n",
       "    }\n",
       "\n",
       "    .dataframe tbody tr th {\n",
       "        vertical-align: top;\n",
       "    }\n",
       "\n",
       "    .dataframe thead th {\n",
       "        text-align: right;\n",
       "    }\n",
       "</style>\n",
       "<table border=\"1\" class=\"dataframe\">\n",
       "  <thead>\n",
       "    <tr style=\"text-align: right;\">\n",
       "      <th></th>\n",
       "      <th>no_of_adults</th>\n",
       "      <th>no_of_children</th>\n",
       "      <th>no_of_weekend_nights</th>\n",
       "      <th>no_of_week_nights</th>\n",
       "      <th>type_of_meal_plan</th>\n",
       "      <th>required_car_parking_space</th>\n",
       "      <th>room_type_reserved</th>\n",
       "      <th>lead_time</th>\n",
       "      <th>arrival_year</th>\n",
       "      <th>arrival_month</th>\n",
       "      <th>arrival_date</th>\n",
       "      <th>market_segment_type</th>\n",
       "      <th>repeated_guest</th>\n",
       "      <th>no_of_previous_cancellations</th>\n",
       "      <th>no_of_previous_bookings_not_canceled</th>\n",
       "      <th>avg_price_per_room</th>\n",
       "      <th>no_of_special_requests</th>\n",
       "    </tr>\n",
       "  </thead>\n",
       "  <tbody>\n",
       "    <tr>\n",
       "      <th>29580</th>\n",
       "      <td>2.0</td>\n",
       "      <td>0.0</td>\n",
       "      <td>1.0</td>\n",
       "      <td>3.0</td>\n",
       "      <td>Meal Plan 1</td>\n",
       "      <td>0.0</td>\n",
       "      <td>Room_Type 1</td>\n",
       "      <td>200.0</td>\n",
       "      <td>2018.0</td>\n",
       "      <td>8</td>\n",
       "      <td>29</td>\n",
       "      <td>Online</td>\n",
       "      <td>0.0</td>\n",
       "      <td>0.0</td>\n",
       "      <td>0.0</td>\n",
       "      <td>90.95</td>\n",
       "      <td>0.0</td>\n",
       "    </tr>\n",
       "    <tr>\n",
       "      <th>6325</th>\n",
       "      <td>2.0</td>\n",
       "      <td>0.0</td>\n",
       "      <td>1.0</td>\n",
       "      <td>3.0</td>\n",
       "      <td>Meal Plan 1</td>\n",
       "      <td>0.0</td>\n",
       "      <td>Room_Type 1</td>\n",
       "      <td>79.0</td>\n",
       "      <td>2018.0</td>\n",
       "      <td>3</td>\n",
       "      <td>24</td>\n",
       "      <td>Online</td>\n",
       "      <td>0.0</td>\n",
       "      <td>0.0</td>\n",
       "      <td>0.0</td>\n",
       "      <td>90.95</td>\n",
       "      <td>1.0</td>\n",
       "    </tr>\n",
       "    <tr>\n",
       "      <th>33899</th>\n",
       "      <td>2.0</td>\n",
       "      <td>0.0</td>\n",
       "      <td>1.0</td>\n",
       "      <td>4.0</td>\n",
       "      <td>Meal Plan 1</td>\n",
       "      <td>0.0</td>\n",
       "      <td>Room_Type 4</td>\n",
       "      <td>78.0</td>\n",
       "      <td>2018.0</td>\n",
       "      <td>4</td>\n",
       "      <td>6</td>\n",
       "      <td>Online</td>\n",
       "      <td>0.0</td>\n",
       "      <td>0.0</td>\n",
       "      <td>0.0</td>\n",
       "      <td>99.45</td>\n",
       "      <td>1.0</td>\n",
       "    </tr>\n",
       "    <tr>\n",
       "      <th>720</th>\n",
       "      <td>2.0</td>\n",
       "      <td>0.0</td>\n",
       "      <td>2.0</td>\n",
       "      <td>0.0</td>\n",
       "      <td>Meal Plan 1</td>\n",
       "      <td>0.0</td>\n",
       "      <td>Room_Type 1</td>\n",
       "      <td>61.0</td>\n",
       "      <td>2018.0</td>\n",
       "      <td>10</td>\n",
       "      <td>4</td>\n",
       "      <td>Offline</td>\n",
       "      <td>0.0</td>\n",
       "      <td>0.0</td>\n",
       "      <td>0.0</td>\n",
       "      <td>91.00</td>\n",
       "      <td>0.0</td>\n",
       "    </tr>\n",
       "    <tr>\n",
       "      <th>22120</th>\n",
       "      <td>2.0</td>\n",
       "      <td>0.0</td>\n",
       "      <td>0.0</td>\n",
       "      <td>4.0</td>\n",
       "      <td>Meal Plan 1</td>\n",
       "      <td>0.0</td>\n",
       "      <td>Room_Type 1</td>\n",
       "      <td>201.0</td>\n",
       "      <td>2018.0</td>\n",
       "      <td>11</td>\n",
       "      <td>1</td>\n",
       "      <td>Online</td>\n",
       "      <td>0.0</td>\n",
       "      <td>0.0</td>\n",
       "      <td>0.0</td>\n",
       "      <td>82.28</td>\n",
       "      <td>2.5</td>\n",
       "    </tr>\n",
       "  </tbody>\n",
       "</table>\n",
       "</div>"
      ],
      "text/plain": [
       "       no_of_adults  no_of_children  no_of_weekend_nights  no_of_week_nights  \\\n",
       "29580           2.0             0.0                   1.0                3.0   \n",
       "6325            2.0             0.0                   1.0                3.0   \n",
       "33899           2.0             0.0                   1.0                4.0   \n",
       "720             2.0             0.0                   2.0                0.0   \n",
       "22120           2.0             0.0                   0.0                4.0   \n",
       "\n",
       "      type_of_meal_plan  required_car_parking_space room_type_reserved  \\\n",
       "29580       Meal Plan 1                         0.0        Room_Type 1   \n",
       "6325        Meal Plan 1                         0.0        Room_Type 1   \n",
       "33899       Meal Plan 1                         0.0        Room_Type 4   \n",
       "720         Meal Plan 1                         0.0        Room_Type 1   \n",
       "22120       Meal Plan 1                         0.0        Room_Type 1   \n",
       "\n",
       "       lead_time  arrival_year  arrival_month  arrival_date  \\\n",
       "29580      200.0        2018.0              8            29   \n",
       "6325        79.0        2018.0              3            24   \n",
       "33899       78.0        2018.0              4             6   \n",
       "720         61.0        2018.0             10             4   \n",
       "22120      201.0        2018.0             11             1   \n",
       "\n",
       "      market_segment_type  repeated_guest  no_of_previous_cancellations  \\\n",
       "29580              Online             0.0                           0.0   \n",
       "6325               Online             0.0                           0.0   \n",
       "33899              Online             0.0                           0.0   \n",
       "720               Offline             0.0                           0.0   \n",
       "22120              Online             0.0                           0.0   \n",
       "\n",
       "       no_of_previous_bookings_not_canceled  avg_price_per_room  \\\n",
       "29580                                   0.0               90.95   \n",
       "6325                                    0.0               90.95   \n",
       "33899                                   0.0               99.45   \n",
       "720                                     0.0               91.00   \n",
       "22120                                   0.0               82.28   \n",
       "\n",
       "       no_of_special_requests  \n",
       "29580                     0.0  \n",
       "6325                      1.0  \n",
       "33899                     1.0  \n",
       "720                       0.0  \n",
       "22120                     2.5  "
      ]
     },
     "execution_count": 28,
     "metadata": {},
     "output_type": "execute_result"
    }
   ],
   "source": [
    "X_train.head()"
   ]
  },
  {
   "cell_type": "code",
   "execution_count": 29,
   "id": "9736a190",
   "metadata": {
    "execution": {
     "iopub.execute_input": "2023-01-18T10:07:09.640444Z",
     "iopub.status.busy": "2023-01-18T10:07:09.639634Z",
     "iopub.status.idle": "2023-01-18T10:07:09.646508Z",
     "shell.execute_reply": "2023-01-18T10:07:09.645444Z"
    },
    "papermill": {
     "duration": 0.036298,
     "end_time": "2023-01-18T10:07:09.648782",
     "exception": false,
     "start_time": "2023-01-18T10:07:09.612484",
     "status": "completed"
    },
    "tags": []
   },
   "outputs": [
    {
     "data": {
      "text/plain": [
       "Index(['no_of_adults', 'no_of_children', 'no_of_weekend_nights',\n",
       "       'no_of_week_nights', 'type_of_meal_plan', 'required_car_parking_space',\n",
       "       'room_type_reserved', 'lead_time', 'arrival_year', 'arrival_month',\n",
       "       'arrival_date', 'market_segment_type', 'repeated_guest',\n",
       "       'no_of_previous_cancellations', 'no_of_previous_bookings_not_canceled',\n",
       "       'avg_price_per_room', 'no_of_special_requests'],\n",
       "      dtype='object')"
      ]
     },
     "execution_count": 29,
     "metadata": {},
     "output_type": "execute_result"
    }
   ],
   "source": [
    "X_train.columns"
   ]
  },
  {
   "cell_type": "code",
   "execution_count": 30,
   "id": "320605d1",
   "metadata": {
    "execution": {
     "iopub.execute_input": "2023-01-18T10:07:09.703566Z",
     "iopub.status.busy": "2023-01-18T10:07:09.702819Z",
     "iopub.status.idle": "2023-01-18T10:07:09.714481Z",
     "shell.execute_reply": "2023-01-18T10:07:09.713268Z"
    },
    "papermill": {
     "duration": 0.042452,
     "end_time": "2023-01-18T10:07:09.717765",
     "exception": false,
     "start_time": "2023-01-18T10:07:09.675313",
     "status": "completed"
    },
    "tags": []
   },
   "outputs": [
    {
     "data": {
      "text/plain": [
       "Index(['no_of_adults', 'no_of_children', 'no_of_weekend_nights',\n",
       "       'no_of_week_nights', 'type_of_meal_plan', 'required_car_parking_space',\n",
       "       'room_type_reserved', 'lead_time', 'arrival_year', 'arrival_month',\n",
       "       'arrival_date', 'market_segment_type', 'repeated_guest',\n",
       "       'no_of_previous_cancellations', 'no_of_previous_bookings_not_canceled',\n",
       "       'avg_price_per_room', 'no_of_special_requests'],\n",
       "      dtype='object')"
      ]
     },
     "execution_count": 30,
     "metadata": {},
     "output_type": "execute_result"
    }
   ],
   "source": [
    "X_test.columns"
   ]
  },
  {
   "cell_type": "code",
   "execution_count": 31,
   "id": "cc43fcbd",
   "metadata": {
    "execution": {
     "iopub.execute_input": "2023-01-18T10:07:09.786967Z",
     "iopub.status.busy": "2023-01-18T10:07:09.786338Z",
     "iopub.status.idle": "2023-01-18T10:07:09.793608Z",
     "shell.execute_reply": "2023-01-18T10:07:09.792820Z"
    },
    "papermill": {
     "duration": 0.049157,
     "end_time": "2023-01-18T10:07:09.798448",
     "exception": false,
     "start_time": "2023-01-18T10:07:09.749291",
     "status": "completed"
    },
    "tags": []
   },
   "outputs": [
    {
     "data": {
      "text/plain": [
       "29580    1\n",
       "6325     1\n",
       "33899    0\n",
       "720      0\n",
       "22120    0\n",
       "Name: booking_status, dtype: int32"
      ]
     },
     "execution_count": 31,
     "metadata": {},
     "output_type": "execute_result"
    }
   ],
   "source": [
    "y_train.head()"
   ]
  },
  {
   "cell_type": "code",
   "execution_count": 32,
   "id": "6c92b44b",
   "metadata": {
    "execution": {
     "iopub.execute_input": "2023-01-18T10:07:09.857815Z",
     "iopub.status.busy": "2023-01-18T10:07:09.856970Z",
     "iopub.status.idle": "2023-01-18T10:07:09.863943Z",
     "shell.execute_reply": "2023-01-18T10:07:09.863018Z"
    },
    "papermill": {
     "duration": 0.036999,
     "end_time": "2023-01-18T10:07:09.866194",
     "exception": false,
     "start_time": "2023-01-18T10:07:09.829195",
     "status": "completed"
    },
    "tags": []
   },
   "outputs": [
    {
     "data": {
      "text/plain": [
       "4968     0\n",
       "34540    0\n",
       "36108    0\n",
       "1553     1\n",
       "24974    0\n",
       "Name: booking_status, dtype: int32"
      ]
     },
     "execution_count": 32,
     "metadata": {},
     "output_type": "execute_result"
    }
   ],
   "source": [
    "y_test.head()"
   ]
  },
  {
   "cell_type": "code",
   "execution_count": 33,
   "id": "d3d86e53",
   "metadata": {
    "execution": {
     "iopub.execute_input": "2023-01-18T10:07:09.923170Z",
     "iopub.status.busy": "2023-01-18T10:07:09.922396Z",
     "iopub.status.idle": "2023-01-18T10:07:09.955682Z",
     "shell.execute_reply": "2023-01-18T10:07:09.953969Z"
    },
    "papermill": {
     "duration": 0.064773,
     "end_time": "2023-01-18T10:07:09.958792",
     "exception": false,
     "start_time": "2023-01-18T10:07:09.894019",
     "status": "completed"
    },
    "tags": []
   },
   "outputs": [
    {
     "name": "stdout",
     "output_type": "stream",
     "text": [
      "(25392, 30)\n",
      "(10883, 30)\n"
     ]
    }
   ],
   "source": [
    "# converting categorical features to Numerical Features  (using one hot encoding)\n",
    "x_train = pd.get_dummies(X_train,columns=['type_of_meal_plan','room_type_reserved','market_segment_type']) \n",
    "print(x_train.shape)\n",
    "x_test = pd.get_dummies(X_test,columns=['type_of_meal_plan','room_type_reserved','market_segment_type']) \n",
    "print(x_test.shape)\n"
   ]
  },
  {
   "cell_type": "code",
   "execution_count": 34,
   "id": "124269e0",
   "metadata": {
    "execution": {
     "iopub.execute_input": "2023-01-18T10:07:10.015004Z",
     "iopub.status.busy": "2023-01-18T10:07:10.014496Z",
     "iopub.status.idle": "2023-01-18T10:07:10.217184Z",
     "shell.execute_reply": "2023-01-18T10:07:10.215544Z"
    },
    "papermill": {
     "duration": 0.240225,
     "end_time": "2023-01-18T10:07:10.225147",
     "exception": false,
     "start_time": "2023-01-18T10:07:09.984922",
     "status": "completed"
    },
    "tags": []
   },
   "outputs": [
    {
     "name": "stdout",
     "output_type": "stream",
     "text": [
      "(25392, 20) (10883, 20)\n"
     ]
    }
   ],
   "source": [
    "# feature selection\n",
    "from sklearn.feature_selection import SelectKBest,chi2\n",
    "fs = SelectKBest(score_func= chi2, k=20)\n",
    "fs.fit(x_train, y_train)\n",
    "X_train_fs = fs.transform(x_train)\n",
    "X_test_fs = fs.transform(x_test)\n",
    "y_1 = x_train.columns[fs.get_support()]\n",
    "z_1 = x_test.columns[fs.get_support()]\n",
    "X_train_1 = pd.DataFrame(X_train_fs,columns = y_1)\n",
    "X_test_1 = pd.DataFrame(X_test_fs, columns = z_1)                                  \n",
    "print(X_train_1.shape, X_test_1.shape)"
   ]
  },
  {
   "cell_type": "markdown",
   "id": "6e2926e7",
   "metadata": {
    "papermill": {
     "duration": 0.033106,
     "end_time": "2023-01-18T10:07:10.325813",
     "exception": false,
     "start_time": "2023-01-18T10:07:10.292707",
     "status": "completed"
    },
    "tags": []
   },
   "source": [
    "Model Preparation:"
   ]
  },
  {
   "cell_type": "code",
   "execution_count": 35,
   "id": "bf42992e",
   "metadata": {
    "execution": {
     "iopub.execute_input": "2023-01-18T10:07:10.379065Z",
     "iopub.status.busy": "2023-01-18T10:07:10.378641Z",
     "iopub.status.idle": "2023-01-18T10:07:10.471912Z",
     "shell.execute_reply": "2023-01-18T10:07:10.470666Z"
    },
    "papermill": {
     "duration": 0.123233,
     "end_time": "2023-01-18T10:07:10.474855",
     "exception": false,
     "start_time": "2023-01-18T10:07:10.351622",
     "status": "completed"
    },
    "tags": []
   },
   "outputs": [],
   "source": [
    "from sklearn.ensemble import RandomForestClassifier\n",
    "ModelRF= RandomForestClassifier()\n",
    "\n",
    "from sklearn.tree import DecisionTreeClassifier\n",
    "ModelDT = DecisionTreeClassifier()\n",
    "\n",
    "from sklearn.linear_model import LogisticRegression\n",
    "ModelLR= LogisticRegression()\n",
    "\n",
    "from sklearn.neighbors import KNeighborsClassifier\n",
    "ModelKN= KNeighborsClassifier(n_neighbors=8)\n",
    "\n",
    "from sklearn.naive_bayes import GaussianNB\n",
    "ModelGN= GaussianNB()\n",
    "\n",
    "from sklearn.svm import SVC\n",
    "ModelSVC= SVC()\n",
    "\n",
    "\n",
    "\n",
    "\n"
   ]
  },
  {
   "cell_type": "code",
   "execution_count": 36,
   "id": "baef30af",
   "metadata": {},
   "outputs": [],
   "source": [
    "MLA=[ModelRF,ModelDT,ModelLR,ModelKN,ModelGN,ModelSVC]"
   ]
  },
  {
   "cell_type": "code",
   "execution_count": 37,
   "id": "5071b9ca",
   "metadata": {},
   "outputs": [],
   "source": [
    "from sklearn.metrics import mean_squared_error,confusion_matrix,precision_score,f1_score,recall_score,roc_curve"
   ]
  },
  {
   "cell_type": "code",
   "execution_count": 38,
   "id": "0aa01813",
   "metadata": {},
   "outputs": [
    {
     "name": "stderr",
     "output_type": "stream",
     "text": [
      "C:\\new python\\venv\\lib\\site-packages\\sklearn\\linear_model\\_logistic.py:814: ConvergenceWarning: lbfgs failed to converge (status=1):\n",
      "STOP: TOTAL NO. of ITERATIONS REACHED LIMIT.\n",
      "\n",
      "Increase the number of iterations (max_iter) or scale the data as shown in:\n",
      "    https://scikit-learn.org/stable/modules/preprocessing.html\n",
      "Please also refer to the documentation for alternative solver options:\n",
      "    https://scikit-learn.org/stable/modules/linear_model.html#logistic-regression\n",
      "  n_iter_i = _check_optimize_result(\n"
     ]
    }
   ],
   "source": [
    "#printing the table\n",
    "MLA_columns = []\n",
    "MLA_compare = pd.DataFrame(columns = MLA_columns)\n",
    "\n",
    "row_index = 0\n",
    "for alg in MLA:\n",
    "\n",
    "\n",
    "    predicted=alg.fit(X_train_1, y_train).predict(X_test_1)\n",
    "    fp, tp, th = roc_curve(y_test, predicted)\n",
    "    MLA_name = alg.__class__.__name__\n",
    "    MLA_compare.loc[row_index,'MLA used'] = MLA_name\n",
    "    MLA_compare.loc[row_index, 'Train Accuracy'] = round(alg.score(X_train_1, y_train), 4)\n",
    "    MLA_compare.loc[row_index, 'Test Accuracy'] = round(alg.score(X_test_1, y_test), 4)\n",
    "    MLA_compare.loc[row_index, 'Precission'] = precision_score(y_test, predicted)\n",
    "    MLA_compare.loc[row_index, 'Recall'] = recall_score(y_test, predicted)\n",
    "    MLA_compare.loc[row_index, 'F1_score'] = f1_score(y_test, predicted)\n",
    "    \n",
    "    row_index+=1\n",
    "# MLA_compare.sort_values(by = ['Test Accuracy'], ascending = False, inplace = True)\n"
   ]
  },
  {
   "cell_type": "code",
   "execution_count": 39,
   "id": "e90c9699",
   "metadata": {},
   "outputs": [
    {
     "data": {
      "text/html": [
       "<div>\n",
       "<style scoped>\n",
       "    .dataframe tbody tr th:only-of-type {\n",
       "        vertical-align: middle;\n",
       "    }\n",
       "\n",
       "    .dataframe tbody tr th {\n",
       "        vertical-align: top;\n",
       "    }\n",
       "\n",
       "    .dataframe thead th {\n",
       "        text-align: right;\n",
       "    }\n",
       "</style>\n",
       "<table border=\"1\" class=\"dataframe\">\n",
       "  <thead>\n",
       "    <tr style=\"text-align: right;\">\n",
       "      <th></th>\n",
       "      <th>MLA used</th>\n",
       "      <th>Train Accuracy</th>\n",
       "      <th>Test Accuracy</th>\n",
       "      <th>Precission</th>\n",
       "      <th>Recall</th>\n",
       "      <th>F1_score</th>\n",
       "    </tr>\n",
       "  </thead>\n",
       "  <tbody>\n",
       "    <tr>\n",
       "      <th>0</th>\n",
       "      <td>RandomForestClassifier</td>\n",
       "      <td>0.9937</td>\n",
       "      <td>0.9002</td>\n",
       "      <td>0.884416</td>\n",
       "      <td>0.803992</td>\n",
       "      <td>0.842289</td>\n",
       "    </tr>\n",
       "    <tr>\n",
       "      <th>1</th>\n",
       "      <td>DecisionTreeClassifier</td>\n",
       "      <td>0.9938</td>\n",
       "      <td>0.8636</td>\n",
       "      <td>0.792022</td>\n",
       "      <td>0.798170</td>\n",
       "      <td>0.795084</td>\n",
       "    </tr>\n",
       "    <tr>\n",
       "      <th>2</th>\n",
       "      <td>LogisticRegression</td>\n",
       "      <td>0.8003</td>\n",
       "      <td>0.8001</td>\n",
       "      <td>0.736304</td>\n",
       "      <td>0.618520</td>\n",
       "      <td>0.672292</td>\n",
       "    </tr>\n",
       "    <tr>\n",
       "      <th>3</th>\n",
       "      <td>KNeighborsClassifier</td>\n",
       "      <td>0.8388</td>\n",
       "      <td>0.8077</td>\n",
       "      <td>0.809485</td>\n",
       "      <td>0.548933</td>\n",
       "      <td>0.654221</td>\n",
       "    </tr>\n",
       "    <tr>\n",
       "      <th>4</th>\n",
       "      <td>GaussianNB</td>\n",
       "      <td>0.4265</td>\n",
       "      <td>0.4352</td>\n",
       "      <td>0.367155</td>\n",
       "      <td>0.973108</td>\n",
       "      <td>0.533151</td>\n",
       "    </tr>\n",
       "    <tr>\n",
       "      <th>5</th>\n",
       "      <td>SVC</td>\n",
       "      <td>0.7697</td>\n",
       "      <td>0.7684</td>\n",
       "      <td>0.776477</td>\n",
       "      <td>0.422789</td>\n",
       "      <td>0.547478</td>\n",
       "    </tr>\n",
       "  </tbody>\n",
       "</table>\n",
       "</div>"
      ],
      "text/plain": [
       "                 MLA used  Train Accuracy  Test Accuracy  Precission  \\\n",
       "0  RandomForestClassifier          0.9937         0.9002    0.884416   \n",
       "1  DecisionTreeClassifier          0.9938         0.8636    0.792022   \n",
       "2      LogisticRegression          0.8003         0.8001    0.736304   \n",
       "3    KNeighborsClassifier          0.8388         0.8077    0.809485   \n",
       "4              GaussianNB          0.4265         0.4352    0.367155   \n",
       "5                     SVC          0.7697         0.7684    0.776477   \n",
       "\n",
       "     Recall  F1_score  \n",
       "0  0.803992  0.842289  \n",
       "1  0.798170  0.795084  \n",
       "2  0.618520  0.672292  \n",
       "3  0.548933  0.654221  \n",
       "4  0.973108  0.533151  \n",
       "5  0.422789  0.547478  "
      ]
     },
     "execution_count": 39,
     "metadata": {},
     "output_type": "execute_result"
    }
   ],
   "source": [
    "MLA_compare"
   ]
  },
  {
   "cell_type": "code",
   "execution_count": 40,
   "id": "46d13261",
   "metadata": {
    "papermill": {
     "duration": 0.026246,
     "end_time": "2023-01-18T10:07:19.406530",
     "exception": false,
     "start_time": "2023-01-18T10:07:19.380284",
     "status": "completed"
    },
    "tags": []
   },
   "outputs": [],
   "source": [
    "#Training accuracy is 0.9938\n",
    "\n",
    "#Testing accuracy is 0.9009"
   ]
  }
 ],
 "metadata": {
  "kernelspec": {
   "display_name": "Python 3 (ipykernel)",
   "language": "python",
   "name": "python3"
  },
  "language_info": {
   "codemirror_mode": {
    "name": "ipython",
    "version": 3
   },
   "file_extension": ".py",
   "mimetype": "text/x-python",
   "name": "python",
   "nbconvert_exporter": "python",
   "pygments_lexer": "ipython3",
   "version": "3.10.2"
  },
  "papermill": {
   "default_parameters": {},
   "duration": 33.59053,
   "end_time": "2023-01-18T10:07:20.255873",
   "environment_variables": {},
   "exception": null,
   "input_path": "__notebook__.ipynb",
   "output_path": "__notebook__.ipynb",
   "parameters": {},
   "start_time": "2023-01-18T10:06:46.665343",
   "version": "2.3.4"
  }
 },
 "nbformat": 4,
 "nbformat_minor": 5
}
